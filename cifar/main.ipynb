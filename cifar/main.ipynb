{
 "cells": [
  {
   "cell_type": "code",
   "execution_count": 1,
   "metadata": {},
   "outputs": [
    {
     "name": "stdout",
     "output_type": "stream",
     "text": [
      "Files already downloaded and verified\n",
      "Files already downloaded and verified\n",
      "Starting epoch 1\n",
      "Starting epoch 2\n",
      "Starting epoch 3\n",
      "Starting epoch 4\n",
      "Starting epoch 5\n"
     ]
    }
   ],
   "source": [
    "import os\n",
    "\n",
    "import matplotlib.pyplot as plt\n",
    "import torch\n",
    "import torch.nn as nn\n",
    "\n",
    "from utils.data import get_train_dataloader, get_test_dataloader\n",
    "from utils.model import VGG\n",
    "from utils.optim import GD\n",
    "from utils.accuracy import compute_accuracy\n",
    "\n",
    "# Папка для сохранения графиков\n",
    "graphs_dir = \"./graphs\"\n",
    "os.makedirs(graphs_dir, exist_ok=True)\n",
    "device = 'mps'\n",
    "\n",
    "model = VGG().to(device)\n",
    "criterion = nn.CrossEntropyLoss()\n",
    "optimizer = GD(model.parameters(), lr=0.1)\n",
    "# optimizer = torch.optim.SGD(model.parameters(), lr=0.1,\n",
    "#                     momentum=0.9, weight_decay=5e-4)\n",
    "\n",
    "testloader = get_test_dataloader()\n",
    "trainloader = get_train_dataloader()\n",
    "\n",
    "num_epochs = 10\n",
    "accuracies = []\n",
    "max_idx = 0\n",
    "for epoch in range(num_epochs):\n",
    "    print(f\"Starting epoch {epoch+1}\") \n",
    "    for batch_idx, (inputs, targets) in enumerate(trainloader):\n",
    "        inputs, targets = inputs.to(device), targets.to(device)\n",
    "\n",
    "        optimizer.zero_grad()\n",
    "\n",
    "        output = model(inputs)\n",
    "        loss = criterion(output, targets)\n",
    "        loss.backward()\n",
    "\n",
    "        optimizer.step()\n",
    "\n",
    "\n",
    "    accuracies.append( compute_accuracy(model, testloader))\n",
    "        \n",
    "plt.figure(figsize=(7, 4))\n",
    "plt.plot(accuracies)\n",
    "plt.xlabel(\"Epoch\")\n",
    "plt.ylabel(\"Accuracy\")\n",
    "plt.title(\"Accuracy vs. Epoch\")\n",
    "plt.grid(True)\n",
    "plt.show()\n",
    "\n"
   ]
  },
  {
   "cell_type": "code",
   "execution_count": null,
   "metadata": {},
   "outputs": [
    {
     "data": {
      "text/plain": [
       "0.7921"
      ]
     },
     "execution_count": 2,
     "metadata": {},
     "output_type": "execute_result"
    }
   ],
   "source": [
    "accuracies[-1]"
   ]
  }
 ],
 "metadata": {
  "kernelspec": {
   "display_name": "mlp",
   "language": "python",
   "name": "python3"
  },
  "language_info": {
   "codemirror_mode": {
    "name": "ipython",
    "version": 3
   },
   "file_extension": ".py",
   "mimetype": "text/x-python",
   "name": "python",
   "nbconvert_exporter": "python",
   "pygments_lexer": "ipython3",
   "version": "3.8.13"
  }
 },
 "nbformat": 4,
 "nbformat_minor": 2
}
