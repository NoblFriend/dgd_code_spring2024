{
 "cells": [
  {
   "cell_type": "code",
   "execution_count": 1,
   "metadata": {},
   "outputs": [
    {
     "data": {
      "text/plain": [
       "10.344856935617718"
      ]
     },
     "execution_count": 1,
     "metadata": {},
     "output_type": "execute_result"
    }
   ],
   "source": [
    "import gd\n",
    "import numpy as np\n",
    "from sklearn.datasets import load_svmlight_file\n",
    "from sklearn.model_selection import train_test_split\n",
    "import matplotlib.pyplot as plt\n",
    "\n",
    "dataset = \"mushrooms.txt\" \n",
    "data = load_svmlight_file(dataset)\n",
    "X, y = data[0].toarray(), data[1]\n",
    "n, d = X.shape\n",
    "y = 2*y-3\n",
    "X_train, X_test, y_train, y_test = train_test_split(X, y, test_size=0.2)\n",
    "\n",
    "L = np.max(np.linalg.eigvals(X.T @ X )).real/n\n",
    "lambda_value = L/100\n",
    "L\n"
   ]
  },
  {
   "cell_type": "code",
   "execution_count": 4,
   "metadata": {},
   "outputs": [
    {
     "name": "stdout",
     "output_type": "stream",
     "text": [
      "[1e-08, 1e-06, 0.0001, 0.01, 1.0, 100.0, 10000.0, 1000000.0, 100000000.0, 10000000000.0]\n",
      "300\n"
     ]
    },
    {
     "data": {
      "image/png": "[encoded data removed]",
      "text/plain": [
       "<Figure size 640x480 with 1 Axes>"
      ]
     },
     "metadata": {},
     "output_type": "display_data"
    },
    {
     "data": {
      "text/plain": [
       "0.24056904371584986"
      ]
     },
     "execution_count": 4,
     "metadata": {},
     "output_type": "execute_result"
    }
   ],
   "source": [
    "\n",
    "def loss(w, X, y, lambda_value):\n",
    "    yXw = y * (X @ w)\n",
    "    log_loss = np.mean(np.log(1 + np.exp(-yXw)))\n",
    "    reg_loss = (lambda_value / 2) * np.dot(w, w)\n",
    "    return log_loss + reg_loss\n",
    "\n",
    "def loss_grad(w, X, y, lambda_value):\n",
    "    yXw = y * (X @ w)\n",
    "    log_grad = np.mean((-y * X.T)/(1+np.exp(+yXw)), axis=1)\n",
    "    reg_grad = lambda_value * w\n",
    "    return log_grad + reg_grad\n",
    "\n",
    "f = gd.Func(\n",
    "    func=loss,\n",
    "    grad=loss_grad\n",
    ")\n",
    "\n",
    "def batch_generator(X, y, batch_size):\n",
    "    n_samples = X.shape[0]\n",
    "    for i in range(0, n_samples, batch_size):\n",
    "        yield (X[i:i + batch_size], y[i:i + batch_size])\n",
    "\n",
    "workers = []\n",
    "batch_size = 500\n",
    "for X_batch, y_batch in batch_generator(X_train, y_train, batch_size):\n",
    "    worker_func = gd.create_worker_func(f, X_batch, y_batch, lambda_value)\n",
    "    workers.append(gd.Worker(worker_func))\n",
    "\n",
    "def top_k(k, arr):\n",
    "    new_arr = arr.copy()\n",
    "    new_arr[arr < np.sort(arr)[-k]] = 0\n",
    "    return new_arr\n",
    "\n",
    "def generate_alpha_sequence(n, start=0.01, factor=2):\n",
    "    return [start * (factor ** k) for k in range(n)]\n",
    "\n",
    "def general_biased_rounding(x, alpha_sequence):\n",
    "    # Оператор общего смещенного округления для вектора x\n",
    "    C_x = np.zeros_like(x)  # Инициализация вектора округленных значений\n",
    "    for i, x_i in enumerate(x):\n",
    "        # Поиск ближайшего элемента t из alpha_sequence к |x_i|\n",
    "        t_min = min(alpha_sequence, key=lambda t: abs(t - abs(x_i)))\n",
    "        C_x[i] = np.sign(x_i) * t_min\n",
    "    return C_x\n",
    "\n",
    "alpha_sequence = generate_alpha_sequence(10, 1e-8, 100)\n",
    "print(alpha_sequence)\n",
    "\n",
    "def natural_dithering(x, p=2, b=2):\n",
    "    norm_p = np.linalg.norm(x, p)\n",
    "    dithered_x = np.zeros_like(x)\n",
    "\n",
    "    for i, xi in enumerate(x):\n",
    "        levels = [b**(-l) for l in range(15)]\n",
    "        closest_levels = min(levels, key=lambda l: abs(l - abs(xi) / norm_p))\n",
    "        dithered_x[i] = np.sign(xi) * closest_levels * norm_p\n",
    "    return dithered_x\n",
    "\n",
    "def svd_approximansion_low_rank_compression(x, rank=2):\n",
    "    X_matrix = x.reshape(14, 8)\n",
    "    U, s, Vt = np.linalg.svd(X_matrix, full_matrices=False)\n",
    "\n",
    "    S = np.diag(s[:rank])\n",
    "    U_low_rank = U[:, :rank]\n",
    "    Vt_low_rank = Vt[:rank, :]\n",
    "\n",
    "    X_approx = np.dot(U_low_rank, np.dot(S, Vt_low_rank))\n",
    "    x_compressed = X_approx.reshape(x.shape)\n",
    "    return x_compressed\n",
    "\n",
    "\n",
    "for worker in workers:\n",
    "    worker.compress_op = lambda arr: svd_approximansion_low_rank_compression(arr, 1)\n",
    "    pass\n",
    "\n",
    "dgd = gd.DistributedGD(workers, 2/(L+lambda_value))\n",
    "w0 = np.zeros(d)  # Начальная инициализация весов\n",
    "dgd.run_ef21(300, w0)  # Запускаем 100 итераций\n",
    "\n",
    "loss_history = [loss(w, X_train, y_train, 0) for w in dgd.history]\n",
    "# Строим график средней функции потерь\n",
    "plt.plot([loss(w, X_train, y_train, 0) for w in dgd.history])\n",
    "print(len(dgd.history))\n",
    "plt.xlabel('Iteration')\n",
    "plt.ylabel('Average Loss')\n",
    "plt.title('Average Loss vs. Iteration')\n",
    "plt.show()\n",
    "min(loss_history)"
   ]
  },
  {
   "cell_type": "code",
   "execution_count": 3,
   "metadata": {},
   "outputs": [
    {
     "name": "stdout",
     "output_type": "stream",
     "text": [
      "[1e-08, 5e-08, 2.5e-07, 1.25e-06, 6.25e-06, 3.125e-05, 0.00015625, 0.00078125, 0.00390625, 0.01953125, 0.09765625, 0.48828125, 2.44140625, 12.20703125, 61.03515625, 305.17578125, 1525.87890625, 7629.39453125, 38146.97265625, 190734.86328125]\n"
     ]
    }
   ],
   "source": [
    "A = np.array([[1,2], [3,4], [6,5]])\n",
    "y = np.array([1, 1, -1])\n",
    "A = A[:1]\n",
    "y = y[:1]\n",
    "np.mean([[1,2], [1,2], [1,5]], axis=0)\n",
    "\n",
    "def top_k(k, arr):\n",
    "    arr[arr < np.sort(arr)[-k]] = 0\n",
    "\n",
    "arr = np.array([1, 2, 2, 2, 2, 2])\n",
    "top_k(2, arr)\n",
    "arr\n",
    "alpha_sequence = generate_alpha_sequence(20, 1e-8, 5)\n",
    "print(alpha_sequence)"
   ]
  }
 ],
 "metadata": {
  "kernelspec": {
   "display_name": "Python 3",
   "language": "python",
   "name": "python3"
  },
  "language_info": {
   "codemirror_mode": {
    "name": "ipython",
    "version": 3
   },
   "file_extension": ".py",
   "mimetype": "text/x-python",
   "name": "python",
   "nbconvert_exporter": "python",
   "pygments_lexer": "ipython3",
   "version": "3.10.13"
  }
 },
 "nbformat": 4,
 "nbformat_minor": 2
}
